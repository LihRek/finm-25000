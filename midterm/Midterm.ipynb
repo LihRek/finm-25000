{
 "cells": [
  {
   "cell_type": "markdown",
   "id": "37d67861",
   "metadata": {},
   "source": [
    "#### Note: portfolio.py can be found at https://github.com/MarkHendricks/finm-quant-2022/blob/main/cmds/portfolio.py"
   ]
  },
  {
   "cell_type": "markdown",
   "id": "00a6607c",
   "metadata": {},
   "source": [
    "## Initialisation"
   ]
  },
  {
   "cell_type": "code",
   "execution_count": 168,
   "id": "40f233bd",
   "metadata": {},
   "outputs": [],
   "source": [
    "import numpy as np\n",
    "import pandas as pd\n",
    "import matplotlib.pyplot as plt\n",
    "import seaborn as sns\n",
    "import statsmodels.api as sm\n",
    "from sklearn.linear_model import LinearRegression\n",
    "import sys\n",
    "sys.path.insert(0, '../')\n",
    "from portfolio import *\n",
    "\n",
    "pd.set_option('display.precision', 3)\n"
   ]
  },
  {
   "cell_type": "markdown",
   "id": "326dd713",
   "metadata": {},
   "source": [
    "## Part 1"
   ]
  },
  {
   "cell_type": "markdown",
   "id": "de377a20",
   "metadata": {},
   "source": [
    "### 1(a)"
   ]
  },
  {
   "cell_type": "code",
   "execution_count": 169,
   "id": "7ddf6bbd",
   "metadata": {},
   "outputs": [
    {
     "data": {
      "text/html": [
       "<div>\n",
       "<style scoped>\n",
       "    .dataframe tbody tr th:only-of-type {\n",
       "        vertical-align: middle;\n",
       "    }\n",
       "\n",
       "    .dataframe tbody tr th {\n",
       "        vertical-align: top;\n",
       "    }\n",
       "\n",
       "    .dataframe thead th {\n",
       "        text-align: right;\n",
       "    }\n",
       "</style>\n",
       "<table border=\"1\" class=\"dataframe\">\n",
       "  <thead>\n",
       "    <tr style=\"text-align: right;\">\n",
       "      <th></th>\n",
       "      <th>Mean</th>\n",
       "      <th>Vol</th>\n",
       "      <th>Sharpe</th>\n",
       "      <th>Min</th>\n",
       "      <th>Max</th>\n",
       "    </tr>\n",
       "  </thead>\n",
       "  <tbody>\n",
       "    <tr>\n",
       "      <th>NoDur</th>\n",
       "      <td>0.087</td>\n",
       "      <td>0.125</td>\n",
       "      <td>0.693</td>\n",
       "      <td>-0.123</td>\n",
       "      <td>0.100</td>\n",
       "    </tr>\n",
       "    <tr>\n",
       "      <th>Durbl</th>\n",
       "      <td>0.107</td>\n",
       "      <td>0.301</td>\n",
       "      <td>0.357</td>\n",
       "      <td>-0.330</td>\n",
       "      <td>0.453</td>\n",
       "    </tr>\n",
       "    <tr>\n",
       "      <th>Manuf</th>\n",
       "      <td>0.087</td>\n",
       "      <td>0.174</td>\n",
       "      <td>0.502</td>\n",
       "      <td>-0.208</td>\n",
       "      <td>0.173</td>\n",
       "    </tr>\n",
       "    <tr>\n",
       "      <th>Enrgy</th>\n",
       "      <td>0.100</td>\n",
       "      <td>0.246</td>\n",
       "      <td>0.406</td>\n",
       "      <td>-0.346</td>\n",
       "      <td>0.324</td>\n",
       "    </tr>\n",
       "    <tr>\n",
       "      <th>HiTec</th>\n",
       "      <td>0.072</td>\n",
       "      <td>0.238</td>\n",
       "      <td>0.304</td>\n",
       "      <td>-0.263</td>\n",
       "      <td>0.192</td>\n",
       "    </tr>\n",
       "    <tr>\n",
       "      <th>Telcm</th>\n",
       "      <td>0.023</td>\n",
       "      <td>0.182</td>\n",
       "      <td>0.129</td>\n",
       "      <td>-0.163</td>\n",
       "      <td>0.212</td>\n",
       "    </tr>\n",
       "    <tr>\n",
       "      <th>Shops</th>\n",
       "      <td>0.083</td>\n",
       "      <td>0.158</td>\n",
       "      <td>0.527</td>\n",
       "      <td>-0.152</td>\n",
       "      <td>0.180</td>\n",
       "    </tr>\n",
       "    <tr>\n",
       "      <th>Hlth</th>\n",
       "      <td>0.079</td>\n",
       "      <td>0.142</td>\n",
       "      <td>0.553</td>\n",
       "      <td>-0.110</td>\n",
       "      <td>0.134</td>\n",
       "    </tr>\n",
       "    <tr>\n",
       "      <th>Utils</th>\n",
       "      <td>0.092</td>\n",
       "      <td>0.145</td>\n",
       "      <td>0.630</td>\n",
       "      <td>-0.131</td>\n",
       "      <td>0.112</td>\n",
       "    </tr>\n",
       "    <tr>\n",
       "      <th>Other</th>\n",
       "      <td>0.066</td>\n",
       "      <td>0.184</td>\n",
       "      <td>0.356</td>\n",
       "      <td>-0.203</td>\n",
       "      <td>0.166</td>\n",
       "    </tr>\n",
       "  </tbody>\n",
       "</table>\n",
       "</div>"
      ],
      "text/plain": [
       "        Mean    Vol  Sharpe    Min    Max\n",
       "NoDur  0.087  0.125   0.693 -0.123  0.100\n",
       "Durbl  0.107  0.301   0.357 -0.330  0.453\n",
       "Manuf  0.087  0.174   0.502 -0.208  0.173\n",
       "Enrgy  0.100  0.246   0.406 -0.346  0.324\n",
       "HiTec  0.072  0.238   0.304 -0.263  0.192\n",
       "Telcm  0.023  0.182   0.129 -0.163  0.212\n",
       "Shops  0.083  0.158   0.527 -0.152  0.180\n",
       "Hlth   0.079  0.142   0.553 -0.110  0.134\n",
       "Utils  0.092  0.145   0.630 -0.131  0.112\n",
       "Other  0.066  0.184   0.356 -0.203  0.166"
      ]
     },
     "execution_count": 169,
     "metadata": {},
     "output_type": "execute_result"
    }
   ],
   "source": [
    "rfr = pd.read_excel('midterm_A_data.xlsx', sheet_name = 'risk-free rate').set_index('Date')\n",
    "factors = pd.read_excel('midterm_A_data.xlsx', sheet_name = 'factors (excess)').set_index('Date')\n",
    "assets = pd.read_excel('midterm_A_data.xlsx', sheet_name = 'assets (excess)').set_index('Date')\n",
    "perf = performanceMetrics(assets, annualization = 12)\n",
    "perf\n"
   ]
  },
  {
   "cell_type": "markdown",
   "id": "2596bf96",
   "metadata": {},
   "source": [
    "### 1(b)"
   ]
  },
  {
   "cell_type": "code",
   "execution_count": 170,
   "id": "b1d09197",
   "metadata": {},
   "outputs": [
    {
     "name": "stdout",
     "output_type": "stream",
     "text": [
      "Best Mean: 0.107 for Durbl\n",
      "Best Sharpe Ratio: 0.693 for NoDur\n"
     ]
    }
   ],
   "source": [
    "perf_sorted = perf.sort_values('Mean', ascending = False)\n",
    "print('Best Mean: '+ str(round(perf_sorted.iloc[[0]].Mean[0], 3)) + ' for ' + perf_sorted.iloc[[0]].index[0])\n",
    "perf_sorted = perf.sort_values('Sharpe', ascending = False)\n",
    "print('Best Sharpe Ratio: '+ str(round(perf_sorted.iloc[[0]].Sharpe[0], 3)) + ' for ' + perf_sorted.iloc[[0]].index[0])"
   ]
  },
  {
   "cell_type": "markdown",
   "id": "925f25a1",
   "metadata": {},
   "source": [
    "### 2"
   ]
  },
  {
   "cell_type": "code",
   "execution_count": 171,
   "id": "1215a8b4",
   "metadata": {},
   "outputs": [
    {
     "data": {
      "text/html": [
       "<div>\n",
       "<style scoped>\n",
       "    .dataframe tbody tr th:only-of-type {\n",
       "        vertical-align: middle;\n",
       "    }\n",
       "\n",
       "    .dataframe tbody tr th {\n",
       "        vertical-align: top;\n",
       "    }\n",
       "\n",
       "    .dataframe thead th {\n",
       "        text-align: right;\n",
       "    }\n",
       "</style>\n",
       "<table border=\"1\" class=\"dataframe\">\n",
       "  <thead>\n",
       "    <tr style=\"text-align: right;\">\n",
       "      <th></th>\n",
       "      <th>Skewness</th>\n",
       "      <th>Kurtosis</th>\n",
       "      <th>VaR (0.05)</th>\n",
       "      <th>CVaR (0.05)</th>\n",
       "      <th>Max Drawdown</th>\n",
       "      <th>Peak</th>\n",
       "      <th>Bottom</th>\n",
       "      <th>Recover</th>\n",
       "      <th>Duration (to Recover)</th>\n",
       "    </tr>\n",
       "  </thead>\n",
       "  <tbody>\n",
       "    <tr>\n",
       "      <th>NoDur</th>\n",
       "      <td>-0.539</td>\n",
       "      <td>0.983</td>\n",
       "      <td>-0.057</td>\n",
       "      <td>-0.080</td>\n",
       "      <td>-0.350</td>\n",
       "      <td>2007-11-30</td>\n",
       "      <td>2009-02-28</td>\n",
       "      <td>2010-09-30</td>\n",
       "      <td>1035 days</td>\n",
       "    </tr>\n",
       "    <tr>\n",
       "      <th>Durbl</th>\n",
       "      <td>0.926</td>\n",
       "      <td>5.200</td>\n",
       "      <td>-0.117</td>\n",
       "      <td>-0.161</td>\n",
       "      <td>-0.767</td>\n",
       "      <td>2000-04-30</td>\n",
       "      <td>2009-02-28</td>\n",
       "      <td>2013-07-31</td>\n",
       "      <td>4840 days</td>\n",
       "    </tr>\n",
       "    <tr>\n",
       "      <th>Manuf</th>\n",
       "      <td>-0.577</td>\n",
       "      <td>1.923</td>\n",
       "      <td>-0.085</td>\n",
       "      <td>-0.116</td>\n",
       "      <td>-0.549</td>\n",
       "      <td>2007-10-31</td>\n",
       "      <td>2009-02-28</td>\n",
       "      <td>2011-02-28</td>\n",
       "      <td>1216 days</td>\n",
       "    </tr>\n",
       "    <tr>\n",
       "      <th>Enrgy</th>\n",
       "      <td>0.045</td>\n",
       "      <td>3.964</td>\n",
       "      <td>-0.107</td>\n",
       "      <td>-0.147</td>\n",
       "      <td>-0.664</td>\n",
       "      <td>2014-06-30</td>\n",
       "      <td>2020-03-31</td>\n",
       "      <td>2022-03-31</td>\n",
       "      <td>2831 days</td>\n",
       "    </tr>\n",
       "    <tr>\n",
       "      <th>HiTec</th>\n",
       "      <td>-0.507</td>\n",
       "      <td>1.418</td>\n",
       "      <td>-0.121</td>\n",
       "      <td>-0.160</td>\n",
       "      <td>-0.813</td>\n",
       "      <td>2000-03-31</td>\n",
       "      <td>2002-09-30</td>\n",
       "      <td>2017-07-31</td>\n",
       "      <td>6331 days</td>\n",
       "    </tr>\n",
       "    <tr>\n",
       "      <th>Telcm</th>\n",
       "      <td>-0.228</td>\n",
       "      <td>1.346</td>\n",
       "      <td>-0.095</td>\n",
       "      <td>-0.122</td>\n",
       "      <td>-0.774</td>\n",
       "      <td>2000-03-31</td>\n",
       "      <td>2009-02-28</td>\n",
       "      <td>2017-01-31</td>\n",
       "      <td>6150 days</td>\n",
       "    </tr>\n",
       "    <tr>\n",
       "      <th>Shops</th>\n",
       "      <td>-0.152</td>\n",
       "      <td>1.039</td>\n",
       "      <td>-0.075</td>\n",
       "      <td>-0.097</td>\n",
       "      <td>-0.409</td>\n",
       "      <td>2007-05-31</td>\n",
       "      <td>2009-02-28</td>\n",
       "      <td>2010-12-31</td>\n",
       "      <td>1310 days</td>\n",
       "    </tr>\n",
       "    <tr>\n",
       "      <th>Hlth</th>\n",
       "      <td>-0.309</td>\n",
       "      <td>0.289</td>\n",
       "      <td>-0.072</td>\n",
       "      <td>-0.088</td>\n",
       "      <td>-0.426</td>\n",
       "      <td>2000-12-31</td>\n",
       "      <td>2009-02-28</td>\n",
       "      <td>2012-04-30</td>\n",
       "      <td>4138 days</td>\n",
       "    </tr>\n",
       "    <tr>\n",
       "      <th>Utils</th>\n",
       "      <td>-0.691</td>\n",
       "      <td>1.057</td>\n",
       "      <td>-0.065</td>\n",
       "      <td>-0.097</td>\n",
       "      <td>-0.392</td>\n",
       "      <td>2007-10-31</td>\n",
       "      <td>2009-02-28</td>\n",
       "      <td>2011-10-31</td>\n",
       "      <td>1461 days</td>\n",
       "    </tr>\n",
       "    <tr>\n",
       "      <th>Other</th>\n",
       "      <td>-0.534</td>\n",
       "      <td>2.007</td>\n",
       "      <td>-0.084</td>\n",
       "      <td>-0.126</td>\n",
       "      <td>-0.696</td>\n",
       "      <td>2007-05-31</td>\n",
       "      <td>2009-02-28</td>\n",
       "      <td>2014-10-31</td>\n",
       "      <td>2710 days</td>\n",
       "    </tr>\n",
       "  </tbody>\n",
       "</table>\n",
       "</div>"
      ],
      "text/plain": [
       "       Skewness  Kurtosis  VaR (0.05)  CVaR (0.05)  Max Drawdown       Peak  \\\n",
       "NoDur    -0.539     0.983      -0.057       -0.080        -0.350 2007-11-30   \n",
       "Durbl     0.926     5.200      -0.117       -0.161        -0.767 2000-04-30   \n",
       "Manuf    -0.577     1.923      -0.085       -0.116        -0.549 2007-10-31   \n",
       "Enrgy     0.045     3.964      -0.107       -0.147        -0.664 2014-06-30   \n",
       "HiTec    -0.507     1.418      -0.121       -0.160        -0.813 2000-03-31   \n",
       "Telcm    -0.228     1.346      -0.095       -0.122        -0.774 2000-03-31   \n",
       "Shops    -0.152     1.039      -0.075       -0.097        -0.409 2007-05-31   \n",
       "Hlth     -0.309     0.289      -0.072       -0.088        -0.426 2000-12-31   \n",
       "Utils    -0.691     1.057      -0.065       -0.097        -0.392 2007-10-31   \n",
       "Other    -0.534     2.007      -0.084       -0.126        -0.696 2007-05-31   \n",
       "\n",
       "          Bottom    Recover Duration (to Recover)  \n",
       "NoDur 2009-02-28 2010-09-30             1035 days  \n",
       "Durbl 2009-02-28 2013-07-31             4840 days  \n",
       "Manuf 2009-02-28 2011-02-28             1216 days  \n",
       "Enrgy 2020-03-31 2022-03-31             2831 days  \n",
       "HiTec 2002-09-30 2017-07-31             6331 days  \n",
       "Telcm 2009-02-28 2017-01-31             6150 days  \n",
       "Shops 2009-02-28 2010-12-31             1310 days  \n",
       "Hlth  2009-02-28 2012-04-30             4138 days  \n",
       "Utils 2009-02-28 2011-10-31             1461 days  \n",
       "Other 2009-02-28 2014-10-31             2710 days  "
      ]
     },
     "execution_count": 171,
     "metadata": {},
     "output_type": "execute_result"
    }
   ],
   "source": [
    "tail = tailMetrics(assets)\n",
    "tail"
   ]
  },
  {
   "cell_type": "markdown",
   "id": "152a6e9f",
   "metadata": {},
   "source": [
    "### 3"
   ]
  },
  {
   "cell_type": "code",
   "execution_count": 184,
   "id": "01cb06d2",
   "metadata": {},
   "outputs": [
    {
     "data": {
      "text/html": [
       "<div>\n",
       "<style scoped>\n",
       "    .dataframe tbody tr th:only-of-type {\n",
       "        vertical-align: middle;\n",
       "    }\n",
       "\n",
       "    .dataframe tbody tr th {\n",
       "        vertical-align: top;\n",
       "    }\n",
       "\n",
       "    .dataframe thead th {\n",
       "        text-align: right;\n",
       "    }\n",
       "</style>\n",
       "<table border=\"1\" class=\"dataframe\">\n",
       "  <thead>\n",
       "    <tr style=\"text-align: right;\">\n",
       "      <th></th>\n",
       "      <th>NoDur</th>\n",
       "      <th>Durbl</th>\n",
       "      <th>Manuf</th>\n",
       "      <th>Enrgy</th>\n",
       "      <th>HiTec</th>\n",
       "      <th>Telcm</th>\n",
       "      <th>Shops</th>\n",
       "      <th>Hlth</th>\n",
       "      <th>Utils</th>\n",
       "      <th>Other</th>\n",
       "    </tr>\n",
       "  </thead>\n",
       "  <tbody>\n",
       "    <tr>\n",
       "      <th>NoDur</th>\n",
       "      <td>NaN</td>\n",
       "      <td>0.532</td>\n",
       "      <td>0.740</td>\n",
       "      <td>0.502</td>\n",
       "      <td>0.452</td>\n",
       "      <td>0.621</td>\n",
       "      <td>0.670</td>\n",
       "      <td>0.616</td>\n",
       "      <td>0.575</td>\n",
       "      <td>0.712</td>\n",
       "    </tr>\n",
       "    <tr>\n",
       "      <th>Durbl</th>\n",
       "      <td>0.532</td>\n",
       "      <td>NaN</td>\n",
       "      <td>0.777</td>\n",
       "      <td>0.469</td>\n",
       "      <td>0.636</td>\n",
       "      <td>0.588</td>\n",
       "      <td>0.730</td>\n",
       "      <td>0.489</td>\n",
       "      <td>0.342</td>\n",
       "      <td>0.760</td>\n",
       "    </tr>\n",
       "    <tr>\n",
       "      <th>Manuf</th>\n",
       "      <td>0.740</td>\n",
       "      <td>0.777</td>\n",
       "      <td>NaN</td>\n",
       "      <td>0.638</td>\n",
       "      <td>0.703</td>\n",
       "      <td>0.704</td>\n",
       "      <td>0.785</td>\n",
       "      <td>0.633</td>\n",
       "      <td>0.498</td>\n",
       "      <td>0.882</td>\n",
       "    </tr>\n",
       "    <tr>\n",
       "      <th>Enrgy</th>\n",
       "      <td>0.502</td>\n",
       "      <td>0.469</td>\n",
       "      <td>0.638</td>\n",
       "      <td>NaN</td>\n",
       "      <td>0.375</td>\n",
       "      <td>0.473</td>\n",
       "      <td>0.424</td>\n",
       "      <td>0.392</td>\n",
       "      <td>0.475</td>\n",
       "      <td>0.589</td>\n",
       "    </tr>\n",
       "    <tr>\n",
       "      <th>HiTec</th>\n",
       "      <td>0.452</td>\n",
       "      <td>0.636</td>\n",
       "      <td>0.703</td>\n",
       "      <td>0.375</td>\n",
       "      <td>NaN</td>\n",
       "      <td>0.712</td>\n",
       "      <td>0.696</td>\n",
       "      <td>0.527</td>\n",
       "      <td>0.267</td>\n",
       "      <td>0.660</td>\n",
       "    </tr>\n",
       "    <tr>\n",
       "      <th>Telcm</th>\n",
       "      <td>0.621</td>\n",
       "      <td>0.588</td>\n",
       "      <td>0.704</td>\n",
       "      <td>0.473</td>\n",
       "      <td>0.712</td>\n",
       "      <td>NaN</td>\n",
       "      <td>0.685</td>\n",
       "      <td>0.567</td>\n",
       "      <td>0.378</td>\n",
       "      <td>0.712</td>\n",
       "    </tr>\n",
       "    <tr>\n",
       "      <th>Shops</th>\n",
       "      <td>0.670</td>\n",
       "      <td>0.730</td>\n",
       "      <td>0.785</td>\n",
       "      <td>0.424</td>\n",
       "      <td>0.696</td>\n",
       "      <td>0.685</td>\n",
       "      <td>NaN</td>\n",
       "      <td>0.590</td>\n",
       "      <td>0.385</td>\n",
       "      <td>0.788</td>\n",
       "    </tr>\n",
       "    <tr>\n",
       "      <th>Hlth</th>\n",
       "      <td>0.616</td>\n",
       "      <td>0.489</td>\n",
       "      <td>0.633</td>\n",
       "      <td>0.392</td>\n",
       "      <td>0.527</td>\n",
       "      <td>0.567</td>\n",
       "      <td>0.590</td>\n",
       "      <td>NaN</td>\n",
       "      <td>0.450</td>\n",
       "      <td>0.632</td>\n",
       "    </tr>\n",
       "    <tr>\n",
       "      <th>Utils</th>\n",
       "      <td>0.575</td>\n",
       "      <td>0.342</td>\n",
       "      <td>0.498</td>\n",
       "      <td>0.475</td>\n",
       "      <td>0.267</td>\n",
       "      <td>0.378</td>\n",
       "      <td>0.385</td>\n",
       "      <td>0.450</td>\n",
       "      <td>NaN</td>\n",
       "      <td>0.459</td>\n",
       "    </tr>\n",
       "    <tr>\n",
       "      <th>Other</th>\n",
       "      <td>0.712</td>\n",
       "      <td>0.760</td>\n",
       "      <td>0.882</td>\n",
       "      <td>0.589</td>\n",
       "      <td>0.660</td>\n",
       "      <td>0.712</td>\n",
       "      <td>0.788</td>\n",
       "      <td>0.632</td>\n",
       "      <td>0.459</td>\n",
       "      <td>NaN</td>\n",
       "    </tr>\n",
       "  </tbody>\n",
       "</table>\n",
       "</div>"
      ],
      "text/plain": [
       "       NoDur  Durbl  Manuf  Enrgy  HiTec  Telcm  Shops   Hlth  Utils  Other\n",
       "NoDur    NaN  0.532  0.740  0.502  0.452  0.621  0.670  0.616  0.575  0.712\n",
       "Durbl  0.532    NaN  0.777  0.469  0.636  0.588  0.730  0.489  0.342  0.760\n",
       "Manuf  0.740  0.777    NaN  0.638  0.703  0.704  0.785  0.633  0.498  0.882\n",
       "Enrgy  0.502  0.469  0.638    NaN  0.375  0.473  0.424  0.392  0.475  0.589\n",
       "HiTec  0.452  0.636  0.703  0.375    NaN  0.712  0.696  0.527  0.267  0.660\n",
       "Telcm  0.621  0.588  0.704  0.473  0.712    NaN  0.685  0.567  0.378  0.712\n",
       "Shops  0.670  0.730  0.785  0.424  0.696  0.685    NaN  0.590  0.385  0.788\n",
       "Hlth   0.616  0.489  0.633  0.392  0.527  0.567  0.590    NaN  0.450  0.632\n",
       "Utils  0.575  0.342  0.498  0.475  0.267  0.378  0.385  0.450    NaN  0.459\n",
       "Other  0.712  0.760  0.882  0.589  0.660  0.712  0.788  0.632  0.459    NaN"
      ]
     },
     "metadata": {},
     "output_type": "display_data"
    },
    {
     "name": "stdout",
     "output_type": "stream",
     "text": [
      "Highest correlation: ('Manuf', 'Other')\n",
      "Lowest correlation: ('Utils', 'HiTec')\n"
     ]
    }
   ],
   "source": [
    "cm = assets.corr()\n",
    "cm[cm==1] = None\n",
    "cm_ranked = abs(cm.unstack()).sort_values(ascending = False).dropna()\n",
    "display(cm)\n",
    "print('Highest correlation: ' + str(cm_ranked.index[1]))\n",
    "print('Lowest correlation: ' + str(cm_ranked.index[-1]))"
   ]
  },
  {
   "cell_type": "markdown",
   "id": "759c9ba0",
   "metadata": {},
   "source": [
    "## Part 2"
   ]
  },
  {
   "cell_type": "markdown",
   "id": "c631a548",
   "metadata": {},
   "source": [
    "### 1"
   ]
  },
  {
   "cell_type": "code",
   "execution_count": 173,
   "id": "0d62cc32",
   "metadata": {},
   "outputs": [
    {
     "data": {
      "text/html": [
       "<style type=\"text/css\">\n",
       "</style>\n",
       "<table id=\"T_2e644\">\n",
       "  <thead>\n",
       "    <tr>\n",
       "      <th class=\"blank level0\" >&nbsp;</th>\n",
       "      <th id=\"T_2e644_level0_col0\" class=\"col_heading level0 col0\" >Weights for the Tangency Portfolio</th>\n",
       "    </tr>\n",
       "  </thead>\n",
       "  <tbody>\n",
       "    <tr>\n",
       "      <th id=\"T_2e644_level0_row0\" class=\"row_heading level0 row0\" >NoDur</th>\n",
       "      <td id=\"T_2e644_row0_col0\" class=\"data row0 col0\" >74.75%</td>\n",
       "    </tr>\n",
       "    <tr>\n",
       "      <th id=\"T_2e644_level0_row1\" class=\"row_heading level0 row1\" >Shops</th>\n",
       "      <td id=\"T_2e644_row1_col0\" class=\"data row1 col0\" >42.92%</td>\n",
       "    </tr>\n",
       "    <tr>\n",
       "      <th id=\"T_2e644_level0_row2\" class=\"row_heading level0 row2\" >Utils</th>\n",
       "      <td id=\"T_2e644_row2_col0\" class=\"data row2 col0\" >29.65%</td>\n",
       "    </tr>\n",
       "    <tr>\n",
       "      <th id=\"T_2e644_level0_row3\" class=\"row_heading level0 row3\" >Hlth</th>\n",
       "      <td id=\"T_2e644_row3_col0\" class=\"data row3 col0\" >28.27%</td>\n",
       "    </tr>\n",
       "    <tr>\n",
       "      <th id=\"T_2e644_level0_row4\" class=\"row_heading level0 row4\" >HiTec</th>\n",
       "      <td id=\"T_2e644_row4_col0\" class=\"data row4 col0\" >16.23%</td>\n",
       "    </tr>\n",
       "    <tr>\n",
       "      <th id=\"T_2e644_level0_row5\" class=\"row_heading level0 row5\" >Enrgy</th>\n",
       "      <td id=\"T_2e644_row5_col0\" class=\"data row5 col0\" >10.91%</td>\n",
       "    </tr>\n",
       "    <tr>\n",
       "      <th id=\"T_2e644_level0_row6\" class=\"row_heading level0 row6\" >Manuf</th>\n",
       "      <td id=\"T_2e644_row6_col0\" class=\"data row6 col0\" >6.62%</td>\n",
       "    </tr>\n",
       "    <tr>\n",
       "      <th id=\"T_2e644_level0_row7\" class=\"row_heading level0 row7\" >Durbl</th>\n",
       "      <td id=\"T_2e644_row7_col0\" class=\"data row7 col0\" >1.60%</td>\n",
       "    </tr>\n",
       "    <tr>\n",
       "      <th id=\"T_2e644_level0_row8\" class=\"row_heading level0 row8\" >Other</th>\n",
       "      <td id=\"T_2e644_row8_col0\" class=\"data row8 col0\" >-49.59%</td>\n",
       "    </tr>\n",
       "    <tr>\n",
       "      <th id=\"T_2e644_level0_row9\" class=\"row_heading level0 row9\" >Telcm</th>\n",
       "      <td id=\"T_2e644_row9_col0\" class=\"data row9 col0\" >-61.36%</td>\n",
       "    </tr>\n",
       "  </tbody>\n",
       "</table>\n"
      ],
      "text/plain": [
       "<pandas.io.formats.style.Styler at 0x7fae9044d3d0>"
      ]
     },
     "execution_count": 173,
     "metadata": {},
     "output_type": "execute_result"
    }
   ],
   "source": [
    "def tangency_portfolio(data, return_vector, inverse_covmat):\n",
    "    one_vector = np.ones((10,1), dtype = int)\n",
    "    return np.dot(inverse_covmat, return_vector) / float(np.dot(np.dot(one_vector.transpose(), inverse_covmat), return_vector))\n",
    "\n",
    "return_vector = np.array(perf['Mean']).reshape([10,1])\n",
    "\n",
    "covmat = assets.cov()*12\n",
    "inverse_covmat = np.linalg.inv(np.array(covmat))\n",
    "\n",
    "tangency_portfolio_weights = tangency_portfolio(assets, return_vector, inverse_covmat)\n",
    "pd.DataFrame(tangency_portfolio_weights, index = perf.index, columns = ['Weights for the Tangency Portfolio']).sort_values('Weights for the Tangency Portfolio', ascending = False).style.format('{:,.2%}')"
   ]
  },
  {
   "cell_type": "markdown",
   "id": "916eafc9",
   "metadata": {},
   "source": [
    "### 2(a)"
   ]
  },
  {
   "cell_type": "code",
   "execution_count": 174,
   "id": "1187db6d",
   "metadata": {},
   "outputs": [
    {
     "data": {
      "text/html": [
       "<style type=\"text/css\">\n",
       "</style>\n",
       "<table id=\"T_360fa\">\n",
       "  <thead>\n",
       "    <tr>\n",
       "      <th class=\"blank level0\" >&nbsp;</th>\n",
       "      <th id=\"T_360fa_level0_col0\" class=\"col_heading level0 col0\" >Weights for the Target Portfolio</th>\n",
       "    </tr>\n",
       "  </thead>\n",
       "  <tbody>\n",
       "    <tr>\n",
       "      <th id=\"T_360fa_level0_row0\" class=\"row_heading level0 row0\" >NoDur</th>\n",
       "      <td id=\"T_360fa_row0_col0\" class=\"data row0 col0\" >67.44%</td>\n",
       "    </tr>\n",
       "    <tr>\n",
       "      <th id=\"T_360fa_level0_row1\" class=\"row_heading level0 row1\" >Shops</th>\n",
       "      <td id=\"T_360fa_row1_col0\" class=\"data row1 col0\" >38.72%</td>\n",
       "    </tr>\n",
       "    <tr>\n",
       "      <th id=\"T_360fa_level0_row2\" class=\"row_heading level0 row2\" >Utils</th>\n",
       "      <td id=\"T_360fa_row2_col0\" class=\"data row2 col0\" >26.74%</td>\n",
       "    </tr>\n",
       "    <tr>\n",
       "      <th id=\"T_360fa_level0_row3\" class=\"row_heading level0 row3\" >Hlth</th>\n",
       "      <td id=\"T_360fa_row3_col0\" class=\"data row3 col0\" >25.51%</td>\n",
       "    </tr>\n",
       "    <tr>\n",
       "      <th id=\"T_360fa_level0_row4\" class=\"row_heading level0 row4\" >HiTec</th>\n",
       "      <td id=\"T_360fa_row4_col0\" class=\"data row4 col0\" >14.64%</td>\n",
       "    </tr>\n",
       "    <tr>\n",
       "      <th id=\"T_360fa_level0_row5\" class=\"row_heading level0 row5\" >Enrgy</th>\n",
       "      <td id=\"T_360fa_row5_col0\" class=\"data row5 col0\" >9.84%</td>\n",
       "    </tr>\n",
       "    <tr>\n",
       "      <th id=\"T_360fa_level0_row6\" class=\"row_heading level0 row6\" >Manuf</th>\n",
       "      <td id=\"T_360fa_row6_col0\" class=\"data row6 col0\" >5.97%</td>\n",
       "    </tr>\n",
       "    <tr>\n",
       "      <th id=\"T_360fa_level0_row7\" class=\"row_heading level0 row7\" >Durbl</th>\n",
       "      <td id=\"T_360fa_row7_col0\" class=\"data row7 col0\" >1.45%</td>\n",
       "    </tr>\n",
       "    <tr>\n",
       "      <th id=\"T_360fa_level0_row8\" class=\"row_heading level0 row8\" >Other</th>\n",
       "      <td id=\"T_360fa_row8_col0\" class=\"data row8 col0\" >-44.74%</td>\n",
       "    </tr>\n",
       "    <tr>\n",
       "      <th id=\"T_360fa_level0_row9\" class=\"row_heading level0 row9\" >Telcm</th>\n",
       "      <td id=\"T_360fa_row9_col0\" class=\"data row9 col0\" >-55.35%</td>\n",
       "    </tr>\n",
       "  </tbody>\n",
       "</table>\n"
      ],
      "text/plain": [
       "<pandas.io.formats.style.Styler at 0x7faeb4c68bb0>"
      ]
     },
     "execution_count": 174,
     "metadata": {},
     "output_type": "execute_result"
    }
   ],
   "source": [
    "def tangency_portfolio_allocation(data, return_vector, inverse_covmat, target_return = 0.01*12):\n",
    "    one_vector = np.ones((10,1), dtype = int)\n",
    "    return (np.dot(np.dot(one_vector.transpose(), inverse_covmat), return_vector) / np.dot(np.dot(return_vector.transpose(), inverse_covmat), return_vector)) * target_return\n",
    "\n",
    "scaler = tangency_portfolio_allocation(assets, return_vector, inverse_covmat, target_return = 0.01*12)[0][0]\n",
    "portfolio_weights = tangency_portfolio_weights * scaler\n",
    "pd.DataFrame(portfolio_weights, index = perf.index, columns = ['Weights for the Target Portfolio']).sort_values('Weights for the Target Portfolio', ascending = False).style.format('{:,.2%}')"
   ]
  },
  {
   "cell_type": "markdown",
   "id": "d95d701f",
   "metadata": {},
   "source": [
    "### 2(b)"
   ]
  },
  {
   "cell_type": "code",
   "execution_count": 185,
   "id": "c07a5f68",
   "metadata": {},
   "outputs": [
    {
     "name": "stdout",
     "output_type": "stream",
     "text": [
      "Total weight of target portfolio: 0.902\n"
     ]
    }
   ],
   "source": [
    "print(\"Total weight of target portfolio:\", \"{:.3f}\".format(scaler))"
   ]
  },
  {
   "cell_type": "markdown",
   "id": "699a933e",
   "metadata": {},
   "source": [
    "Total weight of target portfolio 0.902 < 1, so the rest is invested in the risk-free rate"
   ]
  },
  {
   "cell_type": "markdown",
   "id": "586f5746",
   "metadata": {},
   "source": [
    "### 3"
   ]
  },
  {
   "cell_type": "code",
   "execution_count": 193,
   "id": "c316848c",
   "metadata": {},
   "outputs": [
    {
     "name": "stdout",
     "output_type": "stream",
     "text": [
      "Mean = 12.0%\n",
      "Volatility = 12.24%\n",
      "Sharpe Ratio = 0.98\n"
     ]
    }
   ],
   "source": [
    "mean = np.dot(return_vector.transpose(), portfolio_weights)\n",
    "volatality = np.dot(np.dot(portfolio_weights.transpose(), covmat), portfolio_weights) ** 0.5\n",
    "print(f'Mean = {round(float(mean)*100, 2)}%')\n",
    "print(f'Volatility = {round(float(volatality)*100, 2)}%')\n",
    "print(f'Sharpe Ratio = {round(float(mean/volatality), 2)}')\n"
   ]
  },
  {
   "cell_type": "markdown",
   "id": "d8d1a00e",
   "metadata": {},
   "source": [
    "### 4"
   ]
  },
  {
   "cell_type": "markdown",
   "id": "623eb10e",
   "metadata": {},
   "source": [
    "One thing that should be considered is Bitcoin's correlation with the rest of the assets. If Bitcoin has low correlation with the rest of the assets, then it expands the investment opportunity set (diversifies) and should be considered a separate asset."
   ]
  },
  {
   "cell_type": "markdown",
   "id": "73ce53d5",
   "metadata": {},
   "source": [
    "### 5"
   ]
  },
  {
   "cell_type": "markdown",
   "id": "4c8ac1bc",
   "metadata": {},
   "source": [
    "Ideally, we should use the expectation of returns going forward. In our optimisation, we replaced the expectation of future returns with historic data, under the assumption that historic data is a good estimate. However, in the HW1 case, HMC predicted that the mean return in the future will decrease while volatilities will increase. Therefore, in this case, historic data is not a good predictor of future returns, which causes our optimal portfolio based on historic data to underperform in the future."
   ]
  },
  {
   "cell_type": "markdown",
   "id": "4c21df32",
   "metadata": {},
   "source": [
    "## Part 3"
   ]
  },
  {
   "cell_type": "markdown",
   "id": "168b9c07",
   "metadata": {},
   "source": [
    "### 1"
   ]
  },
  {
   "cell_type": "code",
   "execution_count": 177,
   "id": "d1eaeabc",
   "metadata": {},
   "outputs": [
    {
     "data": {
      "text/html": [
       "<style type=\"text/css\">\n",
       "</style>\n",
       "<table id=\"T_0d429\">\n",
       "  <thead>\n",
       "    <tr>\n",
       "      <th class=\"blank level0\" >&nbsp;</th>\n",
       "      <th id=\"T_0d429_level0_col0\" class=\"col_heading level0 col0\" >alpha</th>\n",
       "      <th id=\"T_0d429_level0_col1\" class=\"col_heading level0 col1\" >MKT</th>\n",
       "      <th id=\"T_0d429_level0_col2\" class=\"col_heading level0 col2\" >HML</th>\n",
       "      <th id=\"T_0d429_level0_col3\" class=\"col_heading level0 col3\" >RMW</th>\n",
       "      <th id=\"T_0d429_level0_col4\" class=\"col_heading level0 col4\" >r-squared</th>\n",
       "      <th id=\"T_0d429_level0_col5\" class=\"col_heading level0 col5\" >Info Ratio</th>\n",
       "    </tr>\n",
       "  </thead>\n",
       "  <tbody>\n",
       "    <tr>\n",
       "      <th id=\"T_0d429_level0_row0\" class=\"row_heading level0 row0\" >NoDur</th>\n",
       "      <td id=\"T_0d429_row0_col0\" class=\"data row0 col0\" >1.78%</td>\n",
       "      <td id=\"T_0d429_row0_col1\" class=\"data row0 col1\" >0.66</td>\n",
       "      <td id=\"T_0d429_row0_col2\" class=\"data row0 col2\" >0.13</td>\n",
       "      <td id=\"T_0d429_row0_col3\" class=\"data row0 col3\" >0.41</td>\n",
       "      <td id=\"T_0d429_row0_col4\" class=\"data row0 col4\" >63.82%</td>\n",
       "      <td id=\"T_0d429_row0_col5\" class=\"data row0 col5\" >0.24</td>\n",
       "    </tr>\n",
       "    <tr>\n",
       "      <th id=\"T_0d429_level0_row1\" class=\"row_heading level0 row1\" >Durbl</th>\n",
       "      <td id=\"T_0d429_row1_col0\" class=\"data row1 col0\" >-1.91%</td>\n",
       "      <td id=\"T_0d429_row1_col1\" class=\"data row1 col1\" >1.59</td>\n",
       "      <td id=\"T_0d429_row1_col2\" class=\"data row1 col2\" >0.20</td>\n",
       "      <td id=\"T_0d429_row1_col3\" class=\"data row1 col3\" >0.33</td>\n",
       "      <td id=\"T_0d429_row1_col4\" class=\"data row1 col4\" >63.84%</td>\n",
       "      <td id=\"T_0d429_row1_col5\" class=\"data row1 col5\" >-0.11</td>\n",
       "    </tr>\n",
       "    <tr>\n",
       "      <th id=\"T_0d429_level0_row2\" class=\"row_heading level0 row2\" >Manuf</th>\n",
       "      <td id=\"T_0d429_row2_col0\" class=\"data row2 col0\" >-0.38%</td>\n",
       "      <td id=\"T_0d429_row2_col1\" class=\"data row2 col1\" >1.08</td>\n",
       "      <td id=\"T_0d429_row2_col2\" class=\"data row2 col2\" >0.19</td>\n",
       "      <td id=\"T_0d429_row2_col3\" class=\"data row2 col3\" >0.29</td>\n",
       "      <td id=\"T_0d429_row2_col4\" class=\"data row2 col4\" >88.13%</td>\n",
       "      <td id=\"T_0d429_row2_col5\" class=\"data row2 col5\" >-0.06</td>\n",
       "    </tr>\n",
       "    <tr>\n",
       "      <th id=\"T_0d429_level0_row3\" class=\"row_heading level0 row3\" >Enrgy</th>\n",
       "      <td id=\"T_0d429_row3_col0\" class=\"data row3 col0\" >0.85%</td>\n",
       "      <td id=\"T_0d429_row3_col1\" class=\"data row3 col1\" >0.99</td>\n",
       "      <td id=\"T_0d429_row3_col2\" class=\"data row3 col2\" >0.65</td>\n",
       "      <td id=\"T_0d429_row3_col3\" class=\"data row3 col3\" >0.14</td>\n",
       "      <td id=\"T_0d429_row3_col4\" class=\"data row3 col4\" >47.57%</td>\n",
       "      <td id=\"T_0d429_row3_col5\" class=\"data row3 col5\" >0.05</td>\n",
       "    </tr>\n",
       "    <tr>\n",
       "      <th id=\"T_0d429_level0_row4\" class=\"row_heading level0 row4\" >HiTec</th>\n",
       "      <td id=\"T_0d429_row4_col0\" class=\"data row4 col0\" >3.07%</td>\n",
       "      <td id=\"T_0d429_row4_col1\" class=\"data row4 col1\" >1.22</td>\n",
       "      <td id=\"T_0d429_row4_col2\" class=\"data row4 col2\" >-0.48</td>\n",
       "      <td id=\"T_0d429_row4_col3\" class=\"data row4 col3\" >-0.41</td>\n",
       "      <td id=\"T_0d429_row4_col4\" class=\"data row4 col4\" >89.18%</td>\n",
       "      <td id=\"T_0d429_row4_col5\" class=\"data row4 col5\" >0.39</td>\n",
       "    </tr>\n",
       "    <tr>\n",
       "      <th id=\"T_0d429_level0_row5\" class=\"row_heading level0 row5\" >Telcm</th>\n",
       "      <td id=\"T_0d429_row5_col0\" class=\"data row5 col0\" >-3.57%</td>\n",
       "      <td id=\"T_0d429_row5_col1\" class=\"data row5 col1\" >0.94</td>\n",
       "      <td id=\"T_0d429_row5_col2\" class=\"data row5 col2\" >0.02</td>\n",
       "      <td id=\"T_0d429_row5_col3\" class=\"data row5 col3\" >-0.03</td>\n",
       "      <td id=\"T_0d429_row5_col4\" class=\"data row5 col4\" >66.51%</td>\n",
       "      <td id=\"T_0d429_row5_col5\" class=\"data row5 col5\" >-0.34</td>\n",
       "    </tr>\n",
       "    <tr>\n",
       "      <th id=\"T_0d429_level0_row6\" class=\"row_heading level0 row6\" >Shops</th>\n",
       "      <td id=\"T_0d429_row6_col0\" class=\"data row6 col0\" >0.42%</td>\n",
       "      <td id=\"T_0d429_row6_col1\" class=\"data row6 col1\" >0.94</td>\n",
       "      <td id=\"T_0d429_row6_col2\" class=\"data row6 col2\" >-0.05</td>\n",
       "      <td id=\"T_0d429_row6_col3\" class=\"data row6 col3\" >0.37</td>\n",
       "      <td id=\"T_0d429_row6_col4\" class=\"data row6 col4\" >76.10%</td>\n",
       "      <td id=\"T_0d429_row6_col5\" class=\"data row6 col5\" >0.05</td>\n",
       "    </tr>\n",
       "    <tr>\n",
       "      <th id=\"T_0d429_level0_row7\" class=\"row_heading level0 row7\" >Hlth</th>\n",
       "      <td id=\"T_0d429_row7_col0\" class=\"data row7 col0\" >3.36%</td>\n",
       "      <td id=\"T_0d429_row7_col1\" class=\"data row7 col1\" >0.66</td>\n",
       "      <td id=\"T_0d429_row7_col2\" class=\"data row7 col2\" >-0.09</td>\n",
       "      <td id=\"T_0d429_row7_col3\" class=\"data row7 col3\" >0.09</td>\n",
       "      <td id=\"T_0d429_row7_col4\" class=\"data row7 col4\" >51.36%</td>\n",
       "      <td id=\"T_0d429_row7_col5\" class=\"data row7 col5\" >0.34</td>\n",
       "    </tr>\n",
       "    <tr>\n",
       "      <th id=\"T_0d429_level0_row8\" class=\"row_heading level0 row8\" >Utils</th>\n",
       "      <td id=\"T_0d429_row8_col0\" class=\"data row8 col0\" >3.73%</td>\n",
       "      <td id=\"T_0d429_row8_col1\" class=\"data row8 col1\" >0.52</td>\n",
       "      <td id=\"T_0d429_row8_col2\" class=\"data row8 col2\" >0.15</td>\n",
       "      <td id=\"T_0d429_row8_col3\" class=\"data row8 col3\" >0.30</td>\n",
       "      <td id=\"T_0d429_row8_col4\" class=\"data row8 col4\" >30.03%</td>\n",
       "      <td id=\"T_0d429_row8_col5\" class=\"data row8 col5\" >0.31</td>\n",
       "    </tr>\n",
       "    <tr>\n",
       "      <th id=\"T_0d429_level0_row9\" class=\"row_heading level0 row9\" >Other</th>\n",
       "      <td id=\"T_0d429_row9_col0\" class=\"data row9 col0\" >-2.11%</td>\n",
       "      <td id=\"T_0d429_row9_col1\" class=\"data row9 col1\" >1.08</td>\n",
       "      <td id=\"T_0d429_row9_col2\" class=\"data row9 col2\" >0.51</td>\n",
       "      <td id=\"T_0d429_row9_col3\" class=\"data row9 col3\" >0.03</td>\n",
       "      <td id=\"T_0d429_row9_col4\" class=\"data row9 col4\" >92.01%</td>\n",
       "      <td id=\"T_0d429_row9_col5\" class=\"data row9 col5\" >-0.40</td>\n",
       "    </tr>\n",
       "  </tbody>\n",
       "</table>\n"
      ],
      "text/plain": [
       "<pandas.io.formats.style.Styler at 0x7faeb48e5d30>"
      ]
     },
     "metadata": {},
     "output_type": "display_data"
    }
   ],
   "source": [
    "mfm_ts = get_ols_metrics(factors, assets, annualization = 12, ignorenan = True)\n",
    "display(mfm_ts.style.format(formatter = {'alpha' : '{:,.2%}', 'r-squared' : '{:,.2%}','MKT' : '{:,.2f}',\\\n",
    "                                         'HML' : '{:,.2f}', 'RMW' : '{:,.2f}', 'Info Ratio' : '{:,.2f}'}))"
   ]
  },
  {
   "cell_type": "markdown",
   "id": "0e552f9e",
   "metadata": {},
   "source": [
    "### 2"
   ]
  },
  {
   "cell_type": "code",
   "execution_count": 178,
   "id": "fe7b4414",
   "metadata": {},
   "outputs": [
    {
     "name": "stdout",
     "output_type": "stream",
     "text": [
      "Lowest absolute value of alpha: Manuf\n"
     ]
    }
   ],
   "source": [
    "alpha_abs = mfm_ts.abs()\n",
    "alpha_sorted = alpha_abs.sort_values('alpha')\n",
    "print(\"Lowest absolute value of alpha:\", alpha_sorted.iloc[[0]].index[0])"
   ]
  },
  {
   "cell_type": "markdown",
   "id": "3d013c26",
   "metadata": {},
   "source": [
    "Fit of a pricing model is determined by how close alpha is to 0. In this case, Manuf has the alpha closest to 0 and is therefore the best fit."
   ]
  },
  {
   "cell_type": "markdown",
   "id": "bcf2bf8e",
   "metadata": {},
   "source": [
    "### 3"
   ]
  },
  {
   "cell_type": "markdown",
   "id": "877314ab",
   "metadata": {},
   "source": [
    "We know nothing about the r-squared values, since CAPM says nothing about distribution <br>\n",
    "Treynor Ratio for all assets would be the same, and equal to the market premium <br>\n",
    "Info Ratio would be 0, since Info Ratio is proportional to alpha but alpha is 0 given CAPM is a perfect fit"
   ]
  },
  {
   "cell_type": "markdown",
   "id": "db4c2396",
   "metadata": {},
   "source": [
    "### 4"
   ]
  },
  {
   "cell_type": "markdown",
   "id": "3f655150",
   "metadata": {},
   "source": [
    "Not necessarily. CAPM fitting perfectly means that the expectation of the returns of an asset can be modelled by beta * expectation of return on market portfolio + epsilon, where the expectation of epsilon is 0. However, epsilon is a function representing factors beyond the market portfolio that isn't necessarily always 0, so the 3-factor regression may attempt to use the other two factors to explain epsilon."
   ]
  },
  {
   "cell_type": "markdown",
   "id": "3bcb1e65",
   "metadata": {},
   "source": [
    "## Part 4"
   ]
  },
  {
   "cell_type": "markdown",
   "id": "c9c21414",
   "metadata": {},
   "source": [
    "### 1"
   ]
  },
  {
   "cell_type": "code",
   "execution_count": 179,
   "id": "a372d2fb",
   "metadata": {},
   "outputs": [],
   "source": [
    "rfr_lag = rfr.shift().dropna()\n",
    "mkt = factors[['MKT']]"
   ]
  },
  {
   "cell_type": "code",
   "execution_count": 180,
   "id": "b0e2761c",
   "metadata": {},
   "outputs": [
    {
     "data": {
      "text/html": [
       "<div>\n",
       "<style scoped>\n",
       "    .dataframe tbody tr th:only-of-type {\n",
       "        vertical-align: middle;\n",
       "    }\n",
       "\n",
       "    .dataframe tbody tr th {\n",
       "        vertical-align: top;\n",
       "    }\n",
       "\n",
       "    .dataframe thead th {\n",
       "        text-align: right;\n",
       "    }\n",
       "</style>\n",
       "<table border=\"1\" class=\"dataframe\">\n",
       "  <thead>\n",
       "    <tr style=\"text-align: right;\">\n",
       "      <th></th>\n",
       "      <th>alpha</th>\n",
       "      <th>RF</th>\n",
       "      <th>r-squared</th>\n",
       "      <th>Treynor Ratio</th>\n",
       "      <th>Info Ratio</th>\n",
       "    </tr>\n",
       "  </thead>\n",
       "  <tbody>\n",
       "    <tr>\n",
       "      <th>MKT</th>\n",
       "      <td>0.011</td>\n",
       "      <td>-4.634</td>\n",
       "      <td>0.023</td>\n",
       "      <td>-0.001</td>\n",
       "      <td>0.251</td>\n",
       "    </tr>\n",
       "  </tbody>\n",
       "</table>\n",
       "</div>"
      ],
      "text/plain": [
       "     alpha     RF  r-squared  Treynor Ratio  Info Ratio\n",
       "MKT  0.011 -4.634      0.023         -0.001       0.251"
      ]
     },
     "execution_count": 180,
     "metadata": {},
     "output_type": "execute_result"
    }
   ],
   "source": [
    "forecasts = get_ols_metrics(rfr_lag, mkt)\n",
    "forecasts"
   ]
  },
  {
   "cell_type": "markdown",
   "id": "8a2de7f6",
   "metadata": {},
   "source": [
    "### 2"
   ]
  },
  {
   "cell_type": "code",
   "execution_count": 181,
   "id": "8c8947e8",
   "metadata": {},
   "outputs": [
    {
     "name": "stdout",
     "output_type": "stream",
     "text": [
      "Final value of time series: 0.985\n"
     ]
    }
   ],
   "source": [
    "w = rfr['RF']\n",
    "w = w.apply(lambda x: 100 * forecasts['alpha'] + x * 100 * forecasts['RF'])\n",
    "print(\"Final value of time series:\", \"{:.3f}\".format(w.iloc[-1]['MKT']))"
   ]
  },
  {
   "cell_type": "markdown",
   "id": "5c285ef1",
   "metadata": {},
   "source": [
    "### 3"
   ]
  },
  {
   "cell_type": "code",
   "execution_count": 182,
   "id": "81f1fb98",
   "metadata": {},
   "outputs": [
    {
     "data": {
      "text/html": [
       "<div>\n",
       "<style scoped>\n",
       "    .dataframe tbody tr th:only-of-type {\n",
       "        vertical-align: middle;\n",
       "    }\n",
       "\n",
       "    .dataframe tbody tr th {\n",
       "        vertical-align: top;\n",
       "    }\n",
       "\n",
       "    .dataframe thead th {\n",
       "        text-align: right;\n",
       "    }\n",
       "</style>\n",
       "<table border=\"1\" class=\"dataframe\">\n",
       "  <thead>\n",
       "    <tr style=\"text-align: right;\">\n",
       "      <th></th>\n",
       "      <th>Mean</th>\n",
       "      <th>Vol</th>\n",
       "      <th>Sharpe</th>\n",
       "      <th>Min</th>\n",
       "      <th>Max</th>\n",
       "    </tr>\n",
       "  </thead>\n",
       "  <tbody>\n",
       "    <tr>\n",
       "      <th>MKT</th>\n",
       "      <td>0.086</td>\n",
       "      <td>0.144</td>\n",
       "      <td>0.598</td>\n",
       "      <td>-0.17</td>\n",
       "      <td>0.147</td>\n",
       "    </tr>\n",
       "  </tbody>\n",
       "</table>\n",
       "</div>"
      ],
      "text/plain": [
       "      Mean    Vol  Sharpe   Min    Max\n",
       "MKT  0.086  0.144   0.598 -0.17  0.147"
      ]
     },
     "execution_count": 182,
     "metadata": {},
     "output_type": "execute_result"
    }
   ],
   "source": [
    "strat = w.shift().mul(mkt).rename(columns = {'MKT': 'strat'})\n",
    "perf_strat = performanceMetrics(strat_lag, annualization = 12)\n",
    "perf_strat"
   ]
  },
  {
   "cell_type": "markdown",
   "id": "4906e4dd",
   "metadata": {},
   "source": [
    "### 4"
   ]
  },
  {
   "cell_type": "code",
   "execution_count": 183,
   "id": "ccbbb2bb",
   "metadata": {},
   "outputs": [
    {
     "data": {
      "text/html": [
       "<div>\n",
       "<style scoped>\n",
       "    .dataframe tbody tr th:only-of-type {\n",
       "        vertical-align: middle;\n",
       "    }\n",
       "\n",
       "    .dataframe tbody tr th {\n",
       "        vertical-align: top;\n",
       "    }\n",
       "\n",
       "    .dataframe thead th {\n",
       "        text-align: right;\n",
       "    }\n",
       "</style>\n",
       "<table border=\"1\" class=\"dataframe\">\n",
       "  <thead>\n",
       "    <tr style=\"text-align: right;\">\n",
       "      <th></th>\n",
       "      <th>alpha</th>\n",
       "      <th>MKT</th>\n",
       "      <th>r-squared</th>\n",
       "      <th>Treynor Ratio</th>\n",
       "      <th>Info Ratio</th>\n",
       "    </tr>\n",
       "  </thead>\n",
       "  <tbody>\n",
       "    <tr>\n",
       "      <th>strat</th>\n",
       "      <td>0.059</td>\n",
       "      <td>0.519</td>\n",
       "      <td>0.355</td>\n",
       "      <td>0.181</td>\n",
       "      <td>0.541</td>\n",
       "    </tr>\n",
       "  </tbody>\n",
       "</table>\n",
       "</div>"
      ],
      "text/plain": [
       "       alpha    MKT  r-squared  Treynor Ratio  Info Ratio\n",
       "strat  0.059  0.519      0.355          0.181       0.541"
      ]
     },
     "execution_count": 183,
     "metadata": {},
     "output_type": "execute_result"
    }
   ],
   "source": [
    "get_ols_metrics(mkt, strat, annualization = 12)"
   ]
  },
  {
   "cell_type": "markdown",
   "id": "a26e5136",
   "metadata": {},
   "source": [
    "### 5"
   ]
  },
  {
   "cell_type": "markdown",
   "id": "39ff4523",
   "metadata": {},
   "source": [
    "Short the risk-free rate by 4.634 times the overall market. This way, the return becomes alpha + epsilon, which is no longer subject to the volatility of the market."
   ]
  },
  {
   "cell_type": "code",
   "execution_count": null,
   "id": "91a3d4b4",
   "metadata": {},
   "outputs": [],
   "source": []
  }
 ],
 "metadata": {
  "kernelspec": {
   "display_name": "Python 3 (ipykernel)",
   "language": "python",
   "name": "python3"
  },
  "language_info": {
   "codemirror_mode": {
    "name": "ipython",
    "version": 3
   },
   "file_extension": ".py",
   "mimetype": "text/x-python",
   "name": "python",
   "nbconvert_exporter": "python",
   "pygments_lexer": "ipython3",
   "version": "3.9.12"
  }
 },
 "nbformat": 4,
 "nbformat_minor": 5
}
